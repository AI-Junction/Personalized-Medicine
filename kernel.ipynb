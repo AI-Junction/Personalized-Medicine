{
  "nbformat": 4,
  "nbformat_minor": 0,
  "metadata": {
    "colab": {
      "name": "kernel.ipynb",
      "version": "0.3.2",
      "provenance": [],
      "include_colab_link": true
    },
    "kernelspec": {
      "display_name": "Python 3",
      "language": "python",
      "name": "python3"
    }
  },
  "cells": [
    {
      "cell_type": "markdown",
      "metadata": {
        "id": "view-in-github",
        "colab_type": "text"
      },
      "source": [
        "<a href=\"https://colab.research.google.com/github/AI-Junction/Personalized-Medicine/blob/master/kernel.ipynb\" target=\"_parent\"><img src=\"https://colab.research.google.com/assets/colab-badge.svg\" alt=\"Open In Colab\"/></a>"
      ]
    },
    {
      "metadata": {
        "_uuid": "af27ef2cf9ba849da916de29879fa4fce11d5d49",
        "id": "aWEJBIeeFgqk",
        "colab_type": "text"
      },
      "cell_type": "markdown",
      "source": [
        "**About Human Protein Atlas Image Classification**\n",
        "\n",
        "Here, the objective is to develop ML models capable of classifying mixed patterns of proteins in microscope images. The Human Protein Atlas will use these models to build a tool integrated with their smart-microscopy system to identify a protein's location(s) from a high-throughput image. Proteins are “the doers” in the human cell, executing many functions that together enable life. In order to fully understand the complexity of the human cell, models must classify mixed patterns of proteins across a range of different human cells.\n",
        "\n",
        "Images visualizing proteins in cells are commonly used for biomedical research, and these cells could hold the key for the next breakthrough in medicine. However, thanks to advances in high-throughput microscopy, these images are generated at a far greater pace than what can be manually evaluated. Therefore, the need is greater than ever for automating biomedical image analysis to accelerate the understanding of human cells and disease.\n",
        "\n",
        "Again, the goal here is to predict various protein structures in cellular images. There are 28 different target proteins. Multiple proteins can be present in one image (multilabel classification)"
      ]
    },
    {
      "metadata": {
        "_uuid": "52422d1fa003045ad445ab57ca7fbbc6748f515f",
        "id": "l-sxvoIQFgqr",
        "colab_type": "text"
      },
      "cell_type": "markdown",
      "source": [
        "**Data**\n",
        "\n",
        "A) Two versions of the same image are provided. \n",
        "i) a scaled set of 512x512 PNG files in train.zip and test.zip. \n",
        "ii) Alternatively, to work with full size original images (a mix of 2048x2048 and 3072x3072 TIFF files) in train_full_size.7z and test_full_size.7z (warning: these are ~250 GB total). \n",
        "\n",
        "B) The training labels are given in train.csv and the filenames for the test set are listed in sample_submission.csv\n",
        "\n",
        "Two fold data format is - first, the labels are provided for each sample in train.csv.\n",
        "\n",
        "The bulk of the data is in the images - train.zip and test.zip. \n",
        "Within each of these is a folder containing four files per sample. \n",
        "Each file represents a different filter on the subcellular protein patterns represented by the sample. \n",
        "The format should be [filename]_[filter color].png for the PNG files, and [filename]_[filter color].tif for the TIFF files."
      ]
    },
    {
      "metadata": {
        "trusted": true,
        "_uuid": "9cc8b7abee32f10ca968159260d3b0944e954e6d",
        "id": "orRF9r8GFgqv",
        "colab_type": "text"
      },
      "cell_type": "markdown",
      "source": [
        "**Prediction**\n",
        "\n",
        "Model should predict protein organelle localization labels for each sample. \n",
        "There are in total 28 different labels present in the dataset. The dataset comprises 27 different cell types of highly different morphology, which affect the protein patterns of the different organelles. \n",
        "All image samples are represented by four filters (stored as individual files) - the protein of interest (green) plus three cellular landmarks: nucleus (blue), microtubules (red), endoplasmic reticulum (yellow). The green filter should hence be used to predict the label, and the other filters are used as references."
      ]
    },
    {
      "metadata": {
        "_uuid": "3eaff1e3bc5d93aa9c40dbf08674a2fbeb6000bf",
        "id": "oQonv062Fgq2",
        "colab_type": "text"
      },
      "cell_type": "markdown",
      "source": [
        "The labels are represented as integers that map to the following:\n",
        "\n",
        "0.  Nucleoplasm  \n",
        "1.  Nuclear membrane   \n",
        "2.  Nucleoli   \n",
        "3.  Nucleoli fibrillar center   \n",
        "4.  Nuclear speckles   \n",
        "5.  Nuclear bodies   \n",
        "6.  Endoplasmic reticulum   \n",
        "7.  Golgi apparatus   \n",
        "8.  Peroxisomes   \n",
        "9.  Endosomes   \n",
        "10.  Lysosomes   \n",
        "11.  Intermediate filaments   \n",
        "12.  Actin filaments   \n",
        "13.  Focal adhesion sites   \n",
        "14.  Microtubules   \n",
        "15.  Microtubule ends   \n",
        "16.  Cytokinetic bridge   \n",
        "17.  Mitotic spindle   \n",
        "18.  Microtubule organizing center   \n",
        "19.  Centrosome   \n",
        "20.  Lipid droplets   \n",
        "21.  Plasma membrane   \n",
        "22.  Cell junctions   \n",
        "23.  Mitochondria   \n",
        "24.  Aggresome   \n",
        "25.  Cytosol   \n",
        "26.  Cytoplasmic bodies   \n",
        "27.  Rods & rings "
      ]
    },
    {
      "metadata": {
        "_uuid": "708312daee1bbd8a2040d5e47942ec3927586e38",
        "id": "VXfZVlbDFgq5",
        "colab_type": "text"
      },
      "cell_type": "markdown",
      "source": [
        "Data fields\n",
        "\n",
        "    Id - the base filename of the sample. As noted above all samples consist of four files - blue, green, red, and yellow.\n"
      ]
    },
    {
      "metadata": {
        "_uuid": "ad5b9d92e00fe922f3d6de0dc5361e6ad80c5a1c",
        "id": "pEKSWSbFFgq9",
        "colab_type": "text"
      },
      "cell_type": "markdown",
      "source": [
        "**Evaluation**\n",
        "\n",
        "Based on macro F1 score.\n",
        "\n",
        "The F1 score is the harmonic mean of precision and recall. Whereas the regular mean treats all values equally, the harmonic mean gives much more weight to low values. As a result, the classifier will only get a high F1 score if both recall and precision are high.\n",
        "\n",
        "F1 score\n",
        "\n",
        "![Imgur](https://i.imgur.com/PgPjd1X.jpg)\n",
        "\n",
        "To compute the F1 score, simply call the f1_score() function\n",
        "\n",
        "For each Id in the test set, predict a class for the Target variable. Note that multiple labels can be predicted for each sample.\n",
        "\n",
        "The file would contain a header and have the following format:\n",
        "\n",
        "Id,Predicted  \n",
        "00008af0-bad0-11e8-b2b8-ac1f6b6435d0,0 1  \n",
        "0000a892-bacf-11e8-b2b8-ac1f6b6435d0,2 3\n",
        "0006faa6-bac7-11e8-b2b7-ac1f6b6435d0,0  \n",
        "0008baca-bad7-11e8-b2b9-ac1f6b6435d0,0  \n",
        "000cce7e-bad4-11e8-b2b8-ac1f6b6435d0,0  \n",
        "00109f6a-bac8-11e8-b2b7-ac1f6b6435d0,1 28"
      ]
    },
    {
      "metadata": {
        "_uuid": "9fe9b6924e8e69236d74c0b1e481bbf3b39e14af",
        "id": "lMSSSFJCFgrA",
        "colab_type": "text"
      },
      "cell_type": "markdown",
      "source": [
        "Set fit_baseline and/or fit_improved_baseline of the KernelSettings class to False if you don't like to wait for computation:"
      ]
    },
    {
      "metadata": {
        "trusted": true,
        "_uuid": "478f808279fb9b8af82555cc58b1b675baf4cd75",
        "id": "DMWhk-eHFgrE",
        "colab_type": "code",
        "colab": {}
      },
      "cell_type": "code",
      "source": [
        "class KernelSettings:\n",
        "    \n",
        "    def __init__(self, fit_baseline=False, fit_improved_baseline=False):\n",
        "        self.fit_baseline = fit_baseline\n",
        "        self.fit_improved_baseline = fit_improved_baseline"
      ],
      "execution_count": 0,
      "outputs": []
    },
    {
      "metadata": {
        "trusted": true,
        "_uuid": "0aabc5015a2ff1b7fb9957a440ab8c5a7741f2f5",
        "id": "fWAd1fkTFgrQ",
        "colab_type": "code",
        "colab": {}
      },
      "cell_type": "code",
      "source": [
        "kernelsettings = KernelSettings(fit_baseline=False, fit_improved_baseline=False)"
      ],
      "execution_count": 0,
      "outputs": []
    },
    {
      "metadata": {
        "_uuid": "8f2839f25d086af736a60e9eeb907d3b93b6e0e5",
        "_cell_guid": "b1076dfc-b9ad-4769-8c92-a6c4dae69d19",
        "trusted": true,
        "id": "KPvJ-45RFgrZ",
        "colab_type": "code",
        "colab": {}
      },
      "cell_type": "code",
      "source": [
        "# This Python 3 environment comes with many helpful analytics libraries installed\n",
        "# It is defined by the kaggle/python docker image: https://github.com/kaggle/docker-python\n",
        "# For example, here's several helpful packages to load in \n",
        "\n",
        "import numpy as np # linear algebra\n",
        "import pandas as pd # data processing, CSV file I/O (e.g. pd.read_csv)\n",
        "\n",
        "# Input data files are available in the \"../input/\" directory.\n",
        "# For example, running this (by clicking run or pressing Shift+Enter) will list the files in the input directory\n",
        "\n",
        "import os\n",
        "print(os.listdir(\"../input\"))\n",
        "\n",
        "# Any results you write to the current directory are saved as output."
      ],
      "execution_count": 0,
      "outputs": []
    },
    {
      "metadata": {
        "trusted": true,
        "_uuid": "c843891c6616650b76d5056754b9321b9e8f210c",
        "id": "AxSGn29qFgrn",
        "colab_type": "code",
        "colab": {}
      },
      "cell_type": "code",
      "source": [
        "train_labels = pd.read_csv(\"../input/train.csv\")\n",
        "train_labels.head()"
      ],
      "execution_count": 0,
      "outputs": []
    },
    {
      "metadata": {
        "_cell_guid": "79c7e3d0-c299-4dcb-8224-4455121ee9b0",
        "_uuid": "d629ff2d2480ee46fbb7e2d37f6b5fab8052498a",
        "trusted": false,
        "id": "6Y-f078qFgrw",
        "colab_type": "code",
        "colab": {}
      },
      "cell_type": "code",
      "source": [
        ""
      ],
      "execution_count": 0,
      "outputs": []
    }
  ]
}