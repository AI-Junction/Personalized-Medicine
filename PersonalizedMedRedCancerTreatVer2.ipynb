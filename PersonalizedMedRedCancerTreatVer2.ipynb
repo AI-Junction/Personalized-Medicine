{
  "nbformat": 4,
  "nbformat_minor": 0,
  "metadata": {
    "colab": {
      "name": "Untitled1.ipynb",
      "version": "0.3.2",
      "provenance": [],
      "include_colab_link": true
    },
    "kernelspec": {
      "name": "python3",
      "display_name": "Python 3"
    }
  },
  "cells": [
    {
      "cell_type": "markdown",
      "metadata": {
        "id": "view-in-github",
        "colab_type": "text"
      },
      "source": [
        "<a href=\"https://colab.research.google.com/github/AI-Junction/Personalized-Medicine/blob/master/PersonalizedMedRedCancerTreatVer2.ipynb\" target=\"_parent\"><img src=\"https://colab.research.google.com/assets/colab-badge.svg\" alt=\"Open In Colab\"/></a>"
      ]
    },
    {
      "metadata": {
        "id": "XXipsBN_1geX",
        "colab_type": "code",
        "colab": {}
      },
      "cell_type": "code",
      "source": [
        "import os\n",
        "import math\n",
        "import numpy as np\n",
        "import pandas as pd\n",
        "import seaborn as sns\n",
        "\n",
        "import matplotlib.pyplot as plt\n",
        "from sklearn.feature_extraction.text import TfidfVectorizer\n",
        "\n"
      ],
      "execution_count": 0,
      "outputs": []
    },
    {
      "metadata": {
        "id": "nOPGzwiB19Le",
        "colab_type": "code",
        "outputId": "95a6e3d5-0e8f-43d1-9915-ed58c18886eb",
        "colab": {
          "base_uri": "https://localhost:8080/",
          "height": 55
        }
      },
      "cell_type": "code",
      "source": [
        "pwd = os.getcwd()\n",
        "print(pwd)\n",
        "dirname = os.path.join(pwd, \"AllPersonalizedMedicineData\")\n",
        "print(dirname)\n"
      ],
      "execution_count": 4,
      "outputs": [
        {
          "output_type": "stream",
          "text": [
            "/content\n",
            "/content/AllPersonalizedMedicineData\n"
          ],
          "name": "stdout"
        }
      ]
    },
    {
      "metadata": {
        "id": "MhAXdhFLhGAu",
        "colab_type": "code",
        "outputId": "31c9894a-7ffb-4be5-9978-d9646d8f6f63",
        "colab": {
          "base_uri": "https://localhost:8080/",
          "height": 490
        }
      },
      "cell_type": "code",
      "source": [
        "!pip install kaggle"
      ],
      "execution_count": 5,
      "outputs": [
        {
          "output_type": "stream",
          "text": [
            "Collecting kaggle\n",
            "\u001b[?25l  Downloading https://files.pythonhosted.org/packages/83/9b/ac57e15fbb239c6793c8d0b7dfd1a4c4a025eaa9f791b5388a7afb515aed/kaggle-1.5.0.tar.gz (53kB)\n",
            "\u001b[K    100% |████████████████████████████████| 61kB 2.4MB/s \n",
            "\u001b[?25hRequirement already satisfied: urllib3<1.23.0,>=1.15 in /usr/local/lib/python3.6/dist-packages (from kaggle) (1.22)\n",
            "Requirement already satisfied: six>=1.10 in /usr/local/lib/python3.6/dist-packages (from kaggle) (1.11.0)\n",
            "Requirement already satisfied: certifi in /usr/local/lib/python3.6/dist-packages (from kaggle) (2018.10.15)\n",
            "Requirement already satisfied: python-dateutil in /usr/local/lib/python3.6/dist-packages (from kaggle) (2.5.3)\n",
            "Requirement already satisfied: requests in /usr/local/lib/python3.6/dist-packages (from kaggle) (2.18.4)\n",
            "Requirement already satisfied: tqdm in /usr/local/lib/python3.6/dist-packages (from kaggle) (4.28.1)\n",
            "Collecting python-slugify (from kaggle)\n",
            "  Downloading https://files.pythonhosted.org/packages/00/ad/c778a6df614b6217c30fe80045b365bfa08b5dd3cb02e8b37a6d25126781/python-slugify-1.2.6.tar.gz\n",
            "Requirement already satisfied: chardet<3.1.0,>=3.0.2 in /usr/local/lib/python3.6/dist-packages (from requests->kaggle) (3.0.4)\n",
            "Requirement already satisfied: idna<2.7,>=2.5 in /usr/local/lib/python3.6/dist-packages (from requests->kaggle) (2.6)\n",
            "Collecting Unidecode>=0.04.16 (from python-slugify->kaggle)\n",
            "\u001b[?25l  Downloading https://files.pythonhosted.org/packages/31/39/53096f9217b057cb049fe872b7fc7ce799a1a89b76cf917d9639e7a558b5/Unidecode-1.0.23-py2.py3-none-any.whl (237kB)\n",
            "\u001b[K    100% |████████████████████████████████| 245kB 6.9MB/s \n",
            "\u001b[?25hBuilding wheels for collected packages: kaggle, python-slugify\n",
            "  Running setup.py bdist_wheel for kaggle ... \u001b[?25l-\b \b\\\b \bdone\n",
            "\u001b[?25h  Stored in directory: /root/.cache/pip/wheels/8b/21/3b/a0076243c6ae12a6215b2da515fe06b539aee7217b406e510e\n",
            "  Running setup.py bdist_wheel for python-slugify ... \u001b[?25l-\b \bdone\n",
            "\u001b[?25h  Stored in directory: /root/.cache/pip/wheels/e3/65/da/2045deea3098ed7471eca0e2460cfbd3fdfe8c1d6fa6fcac92\n",
            "Successfully built kaggle python-slugify\n",
            "Installing collected packages: Unidecode, python-slugify, kaggle\n",
            "Successfully installed Unidecode-1.0.23 kaggle-1.5.0 python-slugify-1.2.6\n"
          ],
          "name": "stdout"
        }
      ]
    },
    {
      "metadata": {
        "id": "7S8_Wm_phpJY",
        "colab_type": "code",
        "outputId": "50276208-ed30-4c00-9ae5-fe01b4c2bc10",
        "colab": {
          "base_uri": "https://localhost:8080/",
          "height": 36
        }
      },
      "cell_type": "code",
      "source": [
        "from googleapiclient.discovery import build\n",
        "import io, os\n",
        "from googleapiclient.http import MediaIoBaseDownload\n",
        "from google.colab import auth\n",
        "\n",
        "auth.authenticate_user()\n",
        "\n",
        "drive_service = build('drive', 'v3')\n",
        "results = drive_service.files().list(\n",
        "        q=\"name = 'kaggle.json'\", fields=\"files(id)\").execute()\n",
        "kaggle_api_key = results.get('files', [])\n",
        "\n",
        "#filename = \"/content/.kaggle/kaggle.json\"\n",
        "#filename = \"/.kaggle/kaggle.json\"\n",
        "filename = \"kaggle.json\"\n",
        "#os.makedirs(os.path.dirname(filename), exist_ok=True)\n",
        "\n",
        "request = drive_service.files().get_media(fileId=kaggle_api_key[0]['id'])\n",
        "fh = io.FileIO(filename, 'wb')\n",
        "downloader = MediaIoBaseDownload(fh, request)\n",
        "done = False\n",
        "while done is False:\n",
        "    status, done = downloader.next_chunk()\n",
        "    print(\"Download %d%%.\" % int(status.progress() * 100))\n",
        "os.chmod(filename, 600)"
      ],
      "execution_count": 6,
      "outputs": [
        {
          "output_type": "stream",
          "text": [
            "Download 100%.\n"
          ],
          "name": "stdout"
        }
      ]
    },
    {
      "metadata": {
        "id": "Kcy1_A5EjSHe",
        "colab_type": "code",
        "outputId": "dff3df8d-7f38-4ea1-c822-dca104edad2a",
        "colab": {
          "base_uri": "https://localhost:8080/",
          "height": 36
        }
      },
      "cell_type": "code",
      "source": [
        "!ls -lha kaggle.json"
      ],
      "execution_count": 8,
      "outputs": [
        {
          "output_type": "stream",
          "text": [
            "---x-wx--T 1 root root 65 Dec  3 08:27 kaggle.json\n"
          ],
          "name": "stdout"
        }
      ]
    },
    {
      "metadata": {
        "id": "-2SFhKlkWWnw",
        "colab_type": "code",
        "colab": {}
      },
      "cell_type": "code",
      "source": [
        ""
      ],
      "execution_count": 0,
      "outputs": []
    },
    {
      "metadata": {
        "id": "Wh3dUmu8VwCn",
        "colab_type": "code",
        "colab": {
          "base_uri": "https://localhost:8080/",
          "height": 36
        },
        "outputId": "6ef4d6a8-b8df-4709-f440-48c0cb12520d"
      },
      "cell_type": "code",
      "source": [
        "os.path.isdir(\"/root/.kaggle\")"
      ],
      "execution_count": 38,
      "outputs": [
        {
          "output_type": "execute_result",
          "data": {
            "text/plain": [
              "True"
            ]
          },
          "metadata": {
            "tags": []
          },
          "execution_count": 38
        }
      ]
    },
    {
      "metadata": {
        "id": "HOIdYOQzjd04",
        "colab_type": "code",
        "colab": {
          "base_uri": "https://localhost:8080/",
          "height": 36
        },
        "outputId": "fd1c4561-2aef-4a6b-97a1-77726d9321d9"
      },
      "cell_type": "code",
      "source": [
        "dir_kaggle = \"/root/.kaggle\"\n",
        "if not os.path.isdir(dir_kaggle):\n",
        "  !mkdir -p ~/.kaggle  \n",
        "!cp kaggle.json ~/.kaggle/\n",
        "os.path.isdir(dir_kaggle)"
      ],
      "execution_count": 39,
      "outputs": [
        {
          "output_type": "execute_result",
          "data": {
            "text/plain": [
              "True"
            ]
          },
          "metadata": {
            "tags": []
          },
          "execution_count": 39
        }
      ]
    },
    {
      "metadata": {
        "id": "TG49r9aGjhNY",
        "colab_type": "code",
        "colab": {}
      },
      "cell_type": "code",
      "source": [
        "!chmod 600 ~/.kaggle/kaggle.json"
      ],
      "execution_count": 0,
      "outputs": []
    },
    {
      "metadata": {
        "id": "Sas-PcdUcwFy",
        "colab_type": "code",
        "colab": {}
      },
      "cell_type": "code",
      "source": [
        "# get all kaggle competitions list\n",
        "#!kaggle competitions list"
      ],
      "execution_count": 0,
      "outputs": []
    },
    {
      "metadata": {
        "id": "ino1-3x0h_Zi",
        "colab_type": "code",
        "colab": {}
      },
      "cell_type": "code",
      "source": [
        "# to list all datasets from kaggle\n",
        "#!kaggle datasets list"
      ],
      "execution_count": 0,
      "outputs": []
    },
    {
      "metadata": {
        "id": "Ade7un3uild1",
        "colab_type": "code",
        "colab": {}
      },
      "cell_type": "code",
      "source": [
        "# To list data files in a competition\n",
        "#!kaggle competitions files -c titanic"
      ],
      "execution_count": 0,
      "outputs": []
    },
    {
      "metadata": {
        "id": "dYek-waQq4Qi",
        "colab_type": "code",
        "colab": {}
      },
      "cell_type": "code",
      "source": [
        "# how to download a file to content folder in colab\n",
        "#!kaggle datasets download -d stackoverflow/stack-overflow-2018-developer-survey"
      ],
      "execution_count": 0,
      "outputs": []
    },
    {
      "metadata": {
        "id": "cmVE07PlufKv",
        "colab_type": "code",
        "colab": {}
      },
      "cell_type": "code",
      "source": [
        "# how to unzip a file to destination folder\n",
        "#!unzip stack-overflow-2018-developer-survey.zip -d stack-overflow-2018-developer-survey"
      ],
      "execution_count": 0,
      "outputs": []
    },
    {
      "metadata": {
        "id": "AAtWYUskvHAS",
        "colab_type": "code",
        "colab": {}
      },
      "cell_type": "code",
      "source": [
        "#from subprocess import check_output\n",
        "#print(check_output([\"ls\", \"/content/stack-overflow-2018-developer-survey\"]).decode(\"utf8\"))"
      ],
      "execution_count": 0,
      "outputs": []
    },
    {
      "metadata": {
        "id": "RLM4qgtws9U_",
        "colab_type": "code",
        "colab": {}
      },
      "cell_type": "code",
      "source": [
        "#!head ~/.kaggle/datasets/stackoverflow/stack-overflow-2018-developer-survey/survey_results_public.csv\n",
        "#!head /content/stack-overflow-2018-developer-survey/survey_results_public.csv"
      ],
      "execution_count": 0,
      "outputs": []
    },
    {
      "metadata": {
        "id": "vcH_5UVQY_IO",
        "colab_type": "code",
        "colab": {}
      },
      "cell_type": "code",
      "source": [
        "# trial code only\n",
        "#!ls \"/content/drive/My Drive/Machine Learning/All ML Datasets\""
      ],
      "execution_count": 0,
      "outputs": []
    },
    {
      "metadata": {
        "id": "oaFFIBhXt8WT",
        "colab_type": "code",
        "outputId": "4275fcb4-bccf-4f4f-ee89-bd978899a899",
        "colab": {
          "base_uri": "https://localhost:8080/",
          "height": 131
        }
      },
      "cell_type": "code",
      "source": [
        "# Load the Drive helper and mount\n",
        "from google.colab import drive\n",
        "\n",
        "# This will prompt for authorization.\n",
        "drive.mount('/content/drive')"
      ],
      "execution_count": 44,
      "outputs": [
        {
          "output_type": "stream",
          "text": [
            "Go to this URL in a browser: https://accounts.google.com/o/oauth2/auth?client_id=947318989803-6bn6qk8qdgf4n4g3pfee6491hc0brc4i.apps.googleusercontent.com&redirect_uri=urn%3Aietf%3Awg%3Aoauth%3A2.0%3Aoob&scope=email%20https%3A%2F%2Fwww.googleapis.com%2Fauth%2Fdocs.test%20https%3A%2F%2Fwww.googleapis.com%2Fauth%2Fdrive%20https%3A%2F%2Fwww.googleapis.com%2Fauth%2Fdrive.photos.readonly%20https%3A%2F%2Fwww.googleapis.com%2Fauth%2Fpeopleapi.readonly&response_type=code\n",
            "\n",
            "Enter your authorization code:\n",
            "··········\n",
            "Mounted at /content/drive\n"
          ],
          "name": "stdout"
        }
      ]
    },
    {
      "metadata": {
        "id": "vpxYCFrqzt0n",
        "colab_type": "code",
        "outputId": "ae793761-1abd-4d1c-cfd0-300ee3cda6c9",
        "colab": {
          "base_uri": "https://localhost:8080/",
          "height": 225
        }
      },
      "cell_type": "code",
      "source": [
        "!kaggle competitions files -c msk-redefining-cancer-treatment"
      ],
      "execution_count": 0,
      "outputs": [
        {
          "output_type": "stream",
          "text": [
            "name                             size  creationDate         \n",
            "-------------------------------  ----  -------------------  \n",
            "training_variants.zip            24KB  2017-06-22 22:42:33  \n",
            "test_variants.zip                47KB  2017-06-22 22:42:33  \n",
            "training_text.zip                60MB  2017-06-22 22:42:59  \n",
            "test_text.zip                    99MB  2017-06-22 22:43:13  \n",
            "stage2_sample_submission.csv.7z  765B  2017-09-26 00:21:29  \n",
            "stage2_test_variants.csv.7z       7KB  2017-09-26 00:21:29  \n",
            "stage2_test_text.csv.7z           9MB  2017-09-26 00:21:30  \n",
            "stage1_solution_filtered.csv.7z   1KB  2017-09-26 01:49:00  \n",
            "stage_2_private_solution.csv.7z  592B  2017-10-13 22:04:01  \n"
          ],
          "name": "stdout"
        }
      ]
    },
    {
      "metadata": {
        "id": "RPwVW-9d65SX",
        "colab_type": "code",
        "colab": {}
      },
      "cell_type": "code",
      "source": [
        "#os.environ['KAGGLE_CONFIG_DIR'] = \"/content/.kaggle\"\n",
        "#KAGGLE_CONFIG_DIR=/content/.kaggle"
      ],
      "execution_count": 0,
      "outputs": []
    },
    {
      "metadata": {
        "id": "tplYKGOH-4je",
        "colab_type": "code",
        "colab": {}
      },
      "cell_type": "code",
      "source": [
        "# to transfer files directly from kaggle competition to google drive. \n",
        "if not os.path.isfile(\"drive/My Drive/All ML Datasets/AllPersonalizedMedicineData/training_variants.zip\"):\n",
        "  !kaggle competitions download -c msk-redefining-cancer-treatment -f training_variants -p \"/content/drive/My Drive/All ML Datasets/AllPersonalizedMedicineData\"\n",
        "  !kaggle competitions download -c msk-redefining-cancer-treatment -f test_variants -p \"/content/drive/My Drive/All ML Datasets/AllPersonalizedMedicineData\"\n",
        "  !kaggle competitions download -c msk-redefining-cancer-treatment -f training_text -p \"/content/drive/My Drive/All ML Datasets/AllPersonalizedMedicineData\"\n",
        "  !kaggle competitions download -c msk-redefining-cancer-treatment -f test_text -p \"/content/drive/My Drive/All ML Datasets/AllPersonalizedMedicineData\""
      ],
      "execution_count": 0,
      "outputs": []
    },
    {
      "metadata": {
        "id": "-iIGvVnGiQJ1",
        "colab_type": "code",
        "colab": {}
      },
      "cell_type": "code",
      "source": [
        "# trial only\n",
        "# titanic_dir = \"/content/drive/My Drive/Machine Learning/All ML Datasets\"\n",
        "# print(os.path.join(titanic_dir, \"titanic_train.csv\"))\n"
      ],
      "execution_count": 0,
      "outputs": []
    },
    {
      "metadata": {
        "id": "jHmTE4EsitrX",
        "colab_type": "code",
        "colab": {}
      },
      "cell_type": "code",
      "source": [
        "# trial only\n",
        "# titanic_train_df = pd.read_csv(os.path.join(titanic_dir, \"titanic_train.csv\"))\n"
      ],
      "execution_count": 0,
      "outputs": []
    },
    {
      "metadata": {
        "id": "i0cJgt4mjE_t",
        "colab_type": "code",
        "colab": {}
      },
      "cell_type": "code",
      "source": [
        "# trial only\n",
        "# titanic_train_df.head()"
      ],
      "execution_count": 0,
      "outputs": []
    },
    {
      "metadata": {
        "id": "PQQjvaCQb35y",
        "colab_type": "code",
        "colab": {}
      },
      "cell_type": "code",
      "source": [
        "#dir = \"/content/drive/My Drive/Machine Learning/All ML Datasets/AllPersonalizedMedicineData\"\n",
        "#!unzip \"drive/My Drive/All ML Datasets/AllPersonalizedMedicineData/training_variants.zip\"\n",
        "\n",
        "'''\n",
        "training_variants.zip            24KB  2017-06-22 22:42:33  \n",
        "test_variants.zip                47KB  2017-06-22 22:42:33  \n",
        "training_text.zip                60MB  2017-06-22 22:42:59  \n",
        "test_text.zip                    99MB  2017-06-22 22:43:13  \n",
        "'''\n",
        "if not os.path.isfile(\"drive/My Drive/All ML Datasets/AllPersonalizedMedicineData/training_variants\"):\n",
        "  !unzip \"drive/My Drive/All ML Datasets/AllPersonalizedMedicineData/training_variants.zip\" -d \"drive/My Drive/All ML Datasets/AllPersonalizedMedicineData\"\n",
        "  !unzip \"drive/My Drive/All ML Datasets/AllPersonalizedMedicineData/test_variants.zip\" -d \"drive/My Drive/All ML Datasets/AllPersonalizedMedicineData\"\n",
        "  !unzip \"drive/My Drive/All ML Datasets/AllPersonalizedMedicineData/training_text.zip\" -d \"drive/My Drive/All ML Datasets/AllPersonalizedMedicineData\"\n",
        "  !unzip \"drive/My Drive/All ML Datasets/AllPersonalizedMedicineData/test_text.zip\" -d \"drive/My Drive/All ML Datasets/AllPersonalizedMedicineData\"\n"
      ],
      "execution_count": 0,
      "outputs": []
    },
    {
      "metadata": {
        "id": "vpg9t8dEjwlM",
        "colab_type": "code",
        "colab": {}
      },
      "cell_type": "code",
      "source": [
        "# import os.path\n",
        "# os.path.isfile(\"drive/My Drive/All ML Datasets/AllPersonalizedMedicineData/training_variants.zip\") \n",
        "# os.path.isdir(dir)\n",
        "# print(os.path.exists(\"drive/My Drive/Machine Learning/All ML Datasets/AllPersonalizedMedicineData/training_variants\"))"
      ],
      "execution_count": 0,
      "outputs": []
    },
    {
      "metadata": {
        "id": "b9a67DGvppJO",
        "colab_type": "code",
        "outputId": "dc525568-0b41-4991-a76d-4433764a494f",
        "colab": {
          "base_uri": "https://localhost:8080/",
          "height": 55
        }
      },
      "cell_type": "code",
      "source": [
        "!ls \"/content/drive/My Drive/All ML Datasets/AllPersonalizedMedicineData\""
      ],
      "execution_count": 48,
      "outputs": [
        {
          "output_type": "stream",
          "text": [
            "test_text      test_variants\t  training_text      training_variants\n",
            "test_text.zip  test_variants.zip  training_text.zip  training_variants.zip\n"
          ],
          "name": "stdout"
        }
      ]
    },
    {
      "metadata": {
        "id": "Hbujv3Gwm0P8",
        "colab_type": "code",
        "outputId": "b24a9b1c-884b-4ae6-84c3-11a4cac657eb",
        "colab": {
          "base_uri": "https://localhost:8080/",
          "height": 36
        }
      },
      "cell_type": "code",
      "source": [
        "!ls \"drive/My Drive/All ML Datasets/AllPersonalizedMedicineData\""
      ],
      "execution_count": 0,
      "outputs": [
        {
          "output_type": "stream",
          "text": [
            "training_variants  training_variants.zip\n"
          ],
          "name": "stdout"
        }
      ]
    },
    {
      "metadata": {
        "id": "VlKm_f1RgnoU",
        "colab_type": "code",
        "colab": {}
      },
      "cell_type": "code",
      "source": [
        "dirname = \"drive/My Drive/All ML Datasets/AllPersonalizedMedicineData\""
      ],
      "execution_count": 0,
      "outputs": []
    },
    {
      "metadata": {
        "id": "1cwLVaF6vJA_",
        "colab_type": "code",
        "outputId": "a50f4523-4879-4e51-ed6f-32917cac7136",
        "colab": {
          "base_uri": "https://localhost:8080/",
          "height": 92
        }
      },
      "cell_type": "code",
      "source": [
        "train_variants_df = pd.read_csv(os.path.join(dirname, \"training_variants\"))\n",
        "test_variants_df = pd.read_csv(os.path.join(dirname, \"test_variants\"))\n",
        "train_text_df = pd.read_csv(os.path.join(dirname, \"training_text\"), sep=\"\\|\\|\", engine=\"python\", skiprows=1, names=[\"ID\", \"Text\"])\n",
        "test_text_df = pd.read_csv(os.path.join(dirname, \"test_text\"), sep=\"\\|\\|\", engine=\"python\", skiprows=1, names=[\"ID\", \"Text\"])\n",
        "print(\"Train Variant\".ljust(15), train_variants_df.shape)\n",
        "print(\"Train Text\".ljust(15), train_text_df.shape)\n",
        "print(\"Test Variant\".ljust(15), test_variants_df.shape)\n",
        "print(\"Test Text\".ljust(15), test_text_df.shape)    \n"
      ],
      "execution_count": 50,
      "outputs": [
        {
          "output_type": "stream",
          "text": [
            "Train Variant   (3321, 4)\n",
            "Train Text      (3321, 2)\n",
            "Test Variant    (5668, 3)\n",
            "Test Text       (5668, 2)\n"
          ],
          "name": "stdout"
        }
      ]
    },
    {
      "metadata": {
        "id": "-dMtBZ_oseDc",
        "colab_type": "code",
        "outputId": "80b41b63-bf16-46a5-863b-8fd500267c32",
        "colab": {
          "base_uri": "https://localhost:8080/",
          "height": 206
        }
      },
      "cell_type": "code",
      "source": [
        "train_variants_df.head()"
      ],
      "execution_count": 51,
      "outputs": [
        {
          "output_type": "execute_result",
          "data": {
            "text/html": [
              "<div>\n",
              "<style scoped>\n",
              "    .dataframe tbody tr th:only-of-type {\n",
              "        vertical-align: middle;\n",
              "    }\n",
              "\n",
              "    .dataframe tbody tr th {\n",
              "        vertical-align: top;\n",
              "    }\n",
              "\n",
              "    .dataframe thead th {\n",
              "        text-align: right;\n",
              "    }\n",
              "</style>\n",
              "<table border=\"1\" class=\"dataframe\">\n",
              "  <thead>\n",
              "    <tr style=\"text-align: right;\">\n",
              "      <th></th>\n",
              "      <th>ID</th>\n",
              "      <th>Gene</th>\n",
              "      <th>Variation</th>\n",
              "      <th>Class</th>\n",
              "    </tr>\n",
              "  </thead>\n",
              "  <tbody>\n",
              "    <tr>\n",
              "      <th>0</th>\n",
              "      <td>0</td>\n",
              "      <td>FAM58A</td>\n",
              "      <td>Truncating Mutations</td>\n",
              "      <td>1</td>\n",
              "    </tr>\n",
              "    <tr>\n",
              "      <th>1</th>\n",
              "      <td>1</td>\n",
              "      <td>CBL</td>\n",
              "      <td>W802*</td>\n",
              "      <td>2</td>\n",
              "    </tr>\n",
              "    <tr>\n",
              "      <th>2</th>\n",
              "      <td>2</td>\n",
              "      <td>CBL</td>\n",
              "      <td>Q249E</td>\n",
              "      <td>2</td>\n",
              "    </tr>\n",
              "    <tr>\n",
              "      <th>3</th>\n",
              "      <td>3</td>\n",
              "      <td>CBL</td>\n",
              "      <td>N454D</td>\n",
              "      <td>3</td>\n",
              "    </tr>\n",
              "    <tr>\n",
              "      <th>4</th>\n",
              "      <td>4</td>\n",
              "      <td>CBL</td>\n",
              "      <td>L399V</td>\n",
              "      <td>4</td>\n",
              "    </tr>\n",
              "  </tbody>\n",
              "</table>\n",
              "</div>"
            ],
            "text/plain": [
              "   ID    Gene             Variation  Class\n",
              "0   0  FAM58A  Truncating Mutations      1\n",
              "1   1     CBL                 W802*      2\n",
              "2   2     CBL                 Q249E      2\n",
              "3   3     CBL                 N454D      3\n",
              "4   4     CBL                 L399V      4"
            ]
          },
          "metadata": {
            "tags": []
          },
          "execution_count": 51
        }
      ]
    },
    {
      "metadata": {
        "id": "-32xHD9tZMRG",
        "colab_type": "code",
        "colab": {}
      },
      "cell_type": "code",
      "source": [
        "#export KAGGLE_USERNAME=cpattekar\n",
        "#export KAGGLE_KEY=af37bff66adaf8e646c1b35bec1ff209"
      ],
      "execution_count": 0,
      "outputs": []
    },
    {
      "metadata": {
        "id": "9c5Z7aSK7wR2",
        "colab_type": "code",
        "colab": {
          "base_uri": "https://localhost:8080/",
          "height": 36
        },
        "outputId": "6c416258-2593-4d2f-f6fb-8f2141e8db65"
      },
      "cell_type": "code",
      "source": [
        "print(\"For training data, there are a total of\", len(train_variants_df.ID.unique()), \"IDs,\", end='')\n",
        "print(len(train_variants_df.Gene.unique()), \"unique genes,\", end='')\n",
        "print(len(train_variants_df.Variation.unique()), \"unique variations and \", end='')\n",
        "print(len(train_variants_df.Class.unique()),  \"classes\")"
      ],
      "execution_count": 54,
      "outputs": [
        {
          "output_type": "stream",
          "text": [
            "For training data, there are a total of 3321 IDs,264 unique genes,2996 unique variations and 9 classes\n"
          ],
          "name": "stdout"
        }
      ]
    },
    {
      "metadata": {
        "id": "UwH4wYKrbYmM",
        "colab_type": "code",
        "colab": {
          "base_uri": "https://localhost:8080/",
          "height": 578
        },
        "outputId": "1b398bdf-55d1-4d21-93f1-0cac4ae29fd9"
      },
      "cell_type": "code",
      "source": [
        "plt.figure(figsize=(12,8))\n",
        "sns.countplot(x=\"Class\", data=train_variants_df, palette=\"Blues_d\")\n",
        "plt.ylabel('Frequency', fontsize=14)\n",
        "plt.xlabel('Class', fontsize=14)\n",
        "plt.title(\"Distribution of genetic mutation classes\", fontsize=18)\n",
        "plt.show()\n"
      ],
      "execution_count": 55,
      "outputs": [
        {
          "output_type": "stream",
          "text": [
            "/usr/local/lib/python3.6/dist-packages/seaborn/categorical.py:1428: FutureWarning: remove_na is deprecated and is a private function. Do not use.\n",
            "  stat_data = remove_na(group_data)\n"
          ],
          "name": "stderr"
        },
        {
          "output_type": "display_data",
          "data": {
            "image/png": "[encoded data removed]",
            "text/plain": [
              "<matplotlib.figure.Figure at 0x7fca99155a20>"
            ]
          },
          "metadata": {
            "tags": []
          }
        }
      ]
    },
    {
      "metadata": {
        "id": "ATwGLunLcqOr",
        "colab_type": "code",
        "colab": {
          "base_uri": "https://localhost:8080/",
          "height": 526
        },
        "outputId": "d84af0cc-260f-4d91-87b7-abb516da80bd"
      },
      "cell_type": "code",
      "source": [
        "gene_group = train_variants_df.groupby(\"Gene\")['Gene'].count()\n",
        "minimal_occ_genes = gene_group.sort_values(ascending=True)[:10]\n",
        "print(\"Genes with maximal occurences\\n\", gene_group.sort_values(ascending=False)[:10])\n",
        "print(\"\\nGenes with minimal occurences\\n\", minimal_occ_genes)"
      ],
      "execution_count": 56,
      "outputs": [
        {
          "output_type": "stream",
          "text": [
            "Genes with maximal occurences\n",
            " Gene\n",
            "BRCA1     264\n",
            "TP53      163\n",
            "EGFR      141\n",
            "PTEN      126\n",
            "BRCA2     125\n",
            "KIT        99\n",
            "BRAF       93\n",
            "ERBB2      69\n",
            "ALK        69\n",
            "PDGFRA     60\n",
            "Name: Gene, dtype: int64\n",
            "\n",
            "Genes with minimal occurences\n",
            " Gene\n",
            "KLF4      1\n",
            "FGF19     1\n",
            "FANCC     1\n",
            "FAM58A    1\n",
            "PAK1      1\n",
            "ERRFI1    1\n",
            "PAX8      1\n",
            "PIK3R3    1\n",
            "PMS1      1\n",
            "PPM1D     1\n",
            "Name: Gene, dtype: int64\n"
          ],
          "name": "stdout"
        }
      ]
    },
    {
      "metadata": {
        "id": "l99MepmKctHr",
        "colab_type": "code",
        "colab": {
          "base_uri": "https://localhost:8080/",
          "height": 935
        },
        "outputId": "e72d0966-798d-454d-a2de-31c76d3db571"
      },
      "cell_type": "code",
      "source": [
        "fig, axs = plt.subplots(ncols=3, nrows=3, figsize=(15,15))\n",
        "\n",
        "for i in range(3):\n",
        "    for j in range(3):\n",
        "        gene_count_grp = train_variants_df[train_variants_df[\"Class\"]==((i*3+j)+1)].groupby('Gene')[\"ID\"].count().reset_index()\n",
        "        sorted_gene_group = gene_count_grp.sort_values('ID', ascending=False)\n",
        "        sorted_gene_group_top_7 = sorted_gene_group[:7]\n",
        "        sns.barplot(x=\"Gene\", y=\"ID\", data=sorted_gene_group_top_7, ax=axs[i][j])\n"
      ],
      "execution_count": 57,
      "outputs": [
        {
          "output_type": "stream",
          "text": [
            "/usr/local/lib/python3.6/dist-packages/seaborn/categorical.py:1428: FutureWarning: remove_na is deprecated and is a private function. Do not use.\n",
            "  stat_data = remove_na(group_data)\n"
          ],
          "name": "stderr"
        },
        {
          "output_type": "display_data",
          "data": {
            "image/png": "[encoded data removed]",
            "text/plain": [
              "<matplotlib.figure.Figure at 0x7fca9909a278>"
            ]
          },
          "metadata": {
            "tags": []
          }
        }
      ]
    }
  ]
}